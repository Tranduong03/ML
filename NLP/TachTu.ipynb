{
 "cells": [
  {
   "cell_type": "code",
   "execution_count": 4,
   "id": "eec22b71",
   "metadata": {},
   "outputs": [],
   "source": [
    "#Hàm tách từ theo khoảng trắng\n",
    "import re\n",
    "\n",
    "def whitespace_tokenize(s):\n",
    "  #for i in s:\n",
    "    #if i == '.':\n",
    "     # s.split(\".\")\n",
    "  return re.split(r\"[\\s@.]+\", s)  #tách từ theo khoảng trắng, dấu chấm, dấu @\n"
   ]
  },
  {
   "cell_type": "code",
   "execution_count": 5,
   "id": "ab588c21",
   "metadata": {},
   "outputs": [
    {
     "name": "stdout",
     "output_type": "stream",
     "text": [
      "['Hôm', 'nay', 'trời', 'mưa', 'thế!']\n"
     ]
    }
   ],
   "source": [
    "#Vi du\n",
    "s = \"Hôm nay trời.mưa@thế!\"\n",
    "print(whitespace_tokenize(s))"
   ]
  }
 ],
 "metadata": {
  "kernelspec": {
   "display_name": "Python (.venv ATBMTT)",
   "language": "python",
   "name": "atbmtt_env"
  },
  "language_info": {
   "codemirror_mode": {
    "name": "ipython",
    "version": 3
   },
   "file_extension": ".py",
   "mimetype": "text/x-python",
   "name": "python",
   "nbconvert_exporter": "python",
   "pygments_lexer": "ipython3",
   "version": "3.11.9"
  }
 },
 "nbformat": 4,
 "nbformat_minor": 5
}
